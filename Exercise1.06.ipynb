{
 "cells": [
  {
   "cell_type": "markdown",
   "metadata": {},
   "source": [
    "## Exercise 1.06: Indexing, Slicing, and Iterating Using pandas"
   ]
  },
  {
   "cell_type": "markdown",
   "metadata": {},
   "source": [
    "In order to get some good and understandable insights into our dataset, we need to be able to explicitly index, slice and iterate our data to e.g. compare several countries in terms of population density growth.   \n",
    "\n",
    "After looking at the distinct operations we want to display the countries Germany, Singapore, United States, and India with their population density of years 1970, 1990, 2010."
   ]
  },
  {
   "cell_type": "markdown",
   "metadata": {},
   "source": [
    "#### Loading the dataset"
   ]
  },
  {
   "cell_type": "code",
   "execution_count": null,
   "metadata": {},
   "outputs": [],
   "source": [
    "# importing the necessary dependencies\n",
    "import pandas as pd"
   ]
  },
  {
   "cell_type": "code",
   "execution_count": null,
   "metadata": {},
   "outputs": [],
   "source": [
    "# loading the Dataset\n",
    "dataset = pd.read_csv('../../Datasets/world_population.csv', index_col=0)"
   ]
  },
  {
   "cell_type": "code",
   "execution_count": null,
   "metadata": {},
   "outputs": [],
   "source": [
    "# looking at the first 2 elements of the dataset\n",
    "dataset.head(2)"
   ]
  },
  {
   "cell_type": "markdown",
   "metadata": {},
   "source": [
    "---"
   ]
  },
  {
   "cell_type": "markdown",
   "metadata": {},
   "source": [
    "#### Indexing"
   ]
  },
  {
   "cell_type": "markdown",
   "metadata": {},
   "source": [
    "Since we need several rows and columns of our dataset to complete the given task, we have to use indexing to get the right rows and columns.   \n",
    "Use indexing to get: \n",
    "- the row of the USA\n",
    "- the second to last row\n",
    "- the column of year 2000 as Series\n",
    "- the population density for India in 2000"
   ]
  },
  {
   "cell_type": "code",
   "execution_count": null,
   "metadata": {},
   "outputs": [],
   "source": [
    "# indexing the USA row\n",
    "dataset.loc[[\"United States\"]].head()"
   ]
  },
  {
   "cell_type": "code",
   "execution_count": null,
   "metadata": {},
   "outputs": [],
   "source": [
    "# indexing the last second to last row by index\n",
    "dataset.iloc[[-2]]"
   ]
  },
  {
   "cell_type": "code",
   "execution_count": null,
   "metadata": {},
   "outputs": [],
   "source": [
    "# indexing the column of 2000 as a Series\n",
    "dataset[\"2000\"].head()"
   ]
  },
  {
   "cell_type": "code",
   "execution_count": null,
   "metadata": {},
   "outputs": [],
   "source": [
    "# indexing the population density of India in 2000 (Dataframe)\n",
    "dataset[[\"2000\"]].loc[[\"India\"]]"
   ]
  },
  {
   "cell_type": "markdown",
   "metadata": {},
   "source": [
    "**Note:**   \n",
    "Using sinlge brackets to index columns (like with NumPy) we will get a pandas Series object.   \n",
    "When using double brackets to do indexing, a DataFrame will be returned. This way we can also index several elements with one query. \n",
    "\n",
    "When comparing the output of the DataFrame query to the Series query, we can see the difference between Series and DataFrames"
   ]
  },
  {
   "cell_type": "code",
   "execution_count": null,
   "metadata": {},
   "outputs": [],
   "source": [
    "# indexing the population density of India in 2000 (Series)\n",
    "dataset[\"2000\"].loc[\"India\"]"
   ]
  },
  {
   "cell_type": "markdown",
   "metadata": {},
   "source": [
    "---"
   ]
  },
  {
   "cell_type": "markdown",
   "metadata": {},
   "source": [
    "#### Slicing"
   ]
  },
  {
   "cell_type": "markdown",
   "metadata": {},
   "source": [
    "Other than the single rows and columns and we also need to get some Subsets of the dataset.   \n",
    "Use slicing for:\n",
    "- the countries in row 2 to 5\n",
    "- countries Germany, Singapore, United States, and India\n",
    "- Germany, Singapore, United States, and India with their population density of years 1970, 1990, 2010"
   ]
  },
  {
   "cell_type": "code",
   "execution_count": null,
   "metadata": {},
   "outputs": [],
   "source": [
    "# slicing countries of rows 2 to 5\n",
    "dataset.iloc[1:5]"
   ]
  },
  {
   "cell_type": "code",
   "execution_count": null,
   "metadata": {},
   "outputs": [],
   "source": [
    "# slicing rows Germany, Singapore, United States, and India \n",
    "dataset.loc[[\"Germany\", \"Singapore\", \"United States\", \"India\"]]"
   ]
  },
  {
   "cell_type": "code",
   "execution_count": null,
   "metadata": {},
   "outputs": [],
   "source": [
    "# slicing a subset of Germany, Singapore, United States, and India \n",
    "# for years 1970, 1990, 2010 <\n",
    "country_list = [\"Germany\", \"Singapore\", \"United States\", \"India\"]\n",
    "\n",
    "dataset.loc[country_list][[\"1970\", \"1990\", \"2010\"]]"
   ]
  },
  {
   "cell_type": "markdown",
   "metadata": {},
   "source": [
    "---"
   ]
  },
  {
   "cell_type": "markdown",
   "metadata": {},
   "source": [
    "#### Iterating"
   ]
  },
  {
   "cell_type": "markdown",
   "metadata": {},
   "source": [
    "As the last task of this exercise, we want to iterate over the first three countries of our dataset and print:   \n",
    "- name\n",
    "- country code \n",
    "- years 1970, 1990, 2010 "
   ]
  },
  {
   "cell_type": "code",
   "execution_count": null,
   "metadata": {},
   "outputs": [],
   "source": [
    "# iterating over the first three countries (row by row)\n",
    "for index, row in dataset.iterrows():\n",
    "    # only printing the rows until Angola\n",
    "    if index == 'Angola':\n",
    "        break\n",
    "    \n",
    "    print(index, '\\n', row[[\"Country Code\", \"1970\", \"1990\", \"2010\"]], '\\n')"
   ]
  },
  {
   "cell_type": "markdown",
   "metadata": {},
   "source": [
    "**Note:**   \n",
    "Iterrows returns a Series for each row. This means that it does not preserve data types across the row.   \n",
    "If you should need to preserve the dtypes of the columns, use the `itertuples()` method."
   ]
  }
 ],
 "metadata": {
  "kernelspec": {
   "display_name": "Python 3",
   "language": "python",
   "name": "python3"
  },
  "language_info": {
   "codemirror_mode": {
    "name": "ipython",
    "version": 3
   },
   "file_extension": ".py",
   "mimetype": "text/x-python",
   "name": "python",
   "nbconvert_exporter": "python",
   "pygments_lexer": "ipython3",
   "version": "3.8.8"
  }
 },
 "nbformat": 4,
 "nbformat_minor": 2
}
