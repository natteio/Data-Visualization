{
 "cells": [
  {
   "cell_type": "code",
   "execution_count": 18,
   "metadata": {},
   "outputs": [],
   "source": [
    "import pandas as pd\n",
    "import matplotlib.pyplot as plt\n",
    "import numpy as np\n"
   ]
  },
  {
   "cell_type": "code",
   "execution_count": 19,
   "metadata": {},
   "outputs": [],
   "source": [
    "dataset = pd.read_csv('Datasets/Covid-19 cases in the Philippines.csv', delimiter=',')"
   ]
  },
  {
   "cell_type": "code",
   "execution_count": 20,
   "metadata": {},
   "outputs": [
    {
     "data": {
      "text/html": [
       "<div>\n",
       "<style scoped>\n",
       "    .dataframe tbody tr th:only-of-type {\n",
       "        vertical-align: middle;\n",
       "    }\n",
       "\n",
       "    .dataframe tbody tr th {\n",
       "        vertical-align: top;\n",
       "    }\n",
       "\n",
       "    .dataframe thead th {\n",
       "        text-align: right;\n",
       "    }\n",
       "</style>\n",
       "<table border=\"1\" class=\"dataframe\">\n",
       "  <thead>\n",
       "    <tr style=\"text-align: right;\">\n",
       "      <th></th>\n",
       "      <th>Case</th>\n",
       "      <th>Age</th>\n",
       "      <th>Sex</th>\n",
       "      <th>Nationality</th>\n",
       "      <th>Status</th>\n",
       "      <th>Transmission</th>\n",
       "    </tr>\n",
       "  </thead>\n",
       "  <tbody>\n",
       "    <tr>\n",
       "      <th>0</th>\n",
       "      <td>PH1</td>\n",
       "      <td>38</td>\n",
       "      <td>Female</td>\n",
       "      <td>Chinese</td>\n",
       "      <td>Recovered</td>\n",
       "      <td>Imported</td>\n",
       "    </tr>\n",
       "    <tr>\n",
       "      <th>1</th>\n",
       "      <td>PH2</td>\n",
       "      <td>44</td>\n",
       "      <td>Male</td>\n",
       "      <td>Chinese</td>\n",
       "      <td>Deceased</td>\n",
       "      <td>Imported</td>\n",
       "    </tr>\n",
       "    <tr>\n",
       "      <th>2</th>\n",
       "      <td>PH3</td>\n",
       "      <td>60</td>\n",
       "      <td>Female</td>\n",
       "      <td>Chinese</td>\n",
       "      <td>Recovered</td>\n",
       "      <td>Imported</td>\n",
       "    </tr>\n",
       "    <tr>\n",
       "      <th>3</th>\n",
       "      <td>PH4</td>\n",
       "      <td>48</td>\n",
       "      <td>Male</td>\n",
       "      <td>Filipino</td>\n",
       "      <td>Recovered</td>\n",
       "      <td>Imported</td>\n",
       "    </tr>\n",
       "    <tr>\n",
       "      <th>4</th>\n",
       "      <td>PH5</td>\n",
       "      <td>62</td>\n",
       "      <td>Male</td>\n",
       "      <td>Filipino</td>\n",
       "      <td>Deceased</td>\n",
       "      <td>Local</td>\n",
       "    </tr>\n",
       "    <tr>\n",
       "      <th>...</th>\n",
       "      <td>...</td>\n",
       "      <td>...</td>\n",
       "      <td>...</td>\n",
       "      <td>...</td>\n",
       "      <td>...</td>\n",
       "      <td>...</td>\n",
       "    </tr>\n",
       "    <tr>\n",
       "      <th>138</th>\n",
       "      <td>PH1488</td>\n",
       "      <td>60</td>\n",
       "      <td>Male</td>\n",
       "      <td>None</td>\n",
       "      <td>Deceased</td>\n",
       "      <td>Local</td>\n",
       "    </tr>\n",
       "    <tr>\n",
       "      <th>139</th>\n",
       "      <td>PH1489</td>\n",
       "      <td>74</td>\n",
       "      <td>Male</td>\n",
       "      <td>Filipino</td>\n",
       "      <td>Deceased</td>\n",
       "      <td>Local</td>\n",
       "    </tr>\n",
       "    <tr>\n",
       "      <th>140</th>\n",
       "      <td>PH1508</td>\n",
       "      <td>72</td>\n",
       "      <td>Female</td>\n",
       "      <td>Filipino</td>\n",
       "      <td>Deceased</td>\n",
       "      <td>Local</td>\n",
       "    </tr>\n",
       "    <tr>\n",
       "      <th>141</th>\n",
       "      <td>PH1811</td>\n",
       "      <td>66</td>\n",
       "      <td>Male</td>\n",
       "      <td>Filipino</td>\n",
       "      <td>Deceased</td>\n",
       "      <td>Local</td>\n",
       "    </tr>\n",
       "    <tr>\n",
       "      <th>142</th>\n",
       "      <td>PH2045</td>\n",
       "      <td>60</td>\n",
       "      <td>Male</td>\n",
       "      <td>Filipino</td>\n",
       "      <td>Deceased</td>\n",
       "      <td>Local</td>\n",
       "    </tr>\n",
       "  </tbody>\n",
       "</table>\n",
       "<p>143 rows × 6 columns</p>\n",
       "</div>"
      ],
      "text/plain": [
       "       Case  Age     Sex Nationality     Status Transmission\n",
       "0       PH1   38  Female     Chinese  Recovered     Imported\n",
       "1       PH2   44    Male     Chinese   Deceased     Imported\n",
       "2       PH3   60  Female     Chinese  Recovered     Imported\n",
       "3       PH4   48    Male    Filipino  Recovered     Imported\n",
       "4       PH5   62    Male    Filipino   Deceased        Local\n",
       "..      ...  ...     ...         ...        ...          ...\n",
       "138  PH1488   60    Male        None   Deceased        Local\n",
       "139  PH1489   74    Male    Filipino   Deceased        Local\n",
       "140  PH1508   72  Female    Filipino   Deceased        Local\n",
       "141  PH1811   66    Male    Filipino   Deceased        Local\n",
       "142  PH2045   60    Male    Filipino   Deceased        Local\n",
       "\n",
       "[143 rows x 6 columns]"
      ]
     },
     "execution_count": 20,
     "metadata": {},
     "output_type": "execute_result"
    }
   ],
   "source": [
    "dataset"
   ]
  },
  {
   "cell_type": "code",
   "execution_count": 21,
   "metadata": {},
   "outputs": [],
   "source": [
    "Deceased_Child_Male = 0\n",
    "Deceased_Child_Female = 0\n",
    "\n",
    "Deceased_TeenAger_Male = 0\n",
    "Deceased_TeenAger_Female = 0\n",
    "\n",
    "Deceased_YoungAdult_Male = 0\n",
    "Deceased_YoungAdult_Female = 0\n",
    "\n",
    "Deceased_Adult_Male = 0\n",
    "Deceased_Adult_Female = 0\n",
    "\n",
    "Deceased_GrandAdult_Male = 0\n",
    "Deceased_GrandAdult_Female = 0\n",
    "\n",
    "for x in range(0,143):\n",
    "    if(dataset[\"Age\"].iloc[x] <= 12):\n",
    "        if(dataset[\"Sex\"].iloc[x] == \"Male\" and dataset[\"Status\"].iloc[x] == \"Deceased\"):\n",
    "            Deceased_Child_Male += 1\n",
    "        else:\n",
    "            Deceased_Child_Female += 1\n",
    "    elif(dataset[\"Age\"].iloc[x] <= 19 and dataset[\"Age\"].iloc[x] >= 13):\n",
    "        if(dataset[\"Sex\"].iloc[x] == \"Male\" and dataset[\"Status\"].iloc[x] == \"Deceased\"):\n",
    "            Deceased_TeenAger_Male += 1\n",
    "        else:\n",
    "            Deceased_TeenAger_Female += 1\n",
    "    elif(dataset[\"Age\"].iloc[x] <= 24 and dataset[\"Age\"].iloc[x] >= 20):\n",
    "        if(dataset[\"Sex\"].iloc[x] == \"Male\" and dataset[\"Status\"].iloc[x] == \"Deceased\"):\n",
    "            Deceased_YoungAdult_Male += 1\n",
    "        else:\n",
    "            Deceased_YoungAdult_Female += 1\n",
    "    elif(dataset[\"Age\"].iloc[x] <= 55 and dataset[\"Age\"].iloc[x] >= 25):\n",
    "        if(dataset[\"Sex\"].iloc[x] == \"Male\" and dataset[\"Status\"].iloc[x] == \"Deceased\"):\n",
    "            Deceased_Adult_Male += 1\n",
    "        else:\n",
    "            Deceased_Adult_Female += 1\n",
    "    else:\n",
    "        if(dataset[\"Sex\"].iloc[x] == \"Male\" and dataset[\"Status\"].iloc[x] == \"Deceased\"):\n",
    "            Deceased_GrandAdult_Male += 1\n",
    "        else:\n",
    "            Deceased_GrandAdult_Female += 1\n",
    "            "
   ]
  },
  {
   "cell_type": "code",
   "execution_count": 22,
   "metadata": {},
   "outputs": [],
   "source": [
    "Ph_Deceased_Male = [Deceased_Child_Male, Deceased_TeenAger_Male, Deceased_YoungAdult_Male, \n",
    "                    Deceased_Adult_Male, Deceased_GrandAdult_Male]"
   ]
  },
  {
   "cell_type": "code",
   "execution_count": 23,
   "metadata": {},
   "outputs": [
    {
     "data": {
      "text/plain": [
       "[0, 0, 0, 10, 56]"
      ]
     },
     "execution_count": 23,
     "metadata": {},
     "output_type": "execute_result"
    }
   ],
   "source": [
    "Ph_Deceased_Male"
   ]
  },
  {
   "cell_type": "code",
   "execution_count": 24,
   "metadata": {},
   "outputs": [],
   "source": [
    "Ph_Deceased_Female = [Deceased_Child_Female,Deceased_TeenAger_Female, Deceased_YoungAdult_Female, \n",
    "                      Deceased_Adult_Female, Deceased_GrandAdult_Female]"
   ]
  },
  {
   "cell_type": "code",
   "execution_count": 25,
   "metadata": {},
   "outputs": [
    {
     "data": {
      "text/plain": [
       "[0, 1, 2, 30, 44]"
      ]
     },
     "execution_count": 25,
     "metadata": {},
     "output_type": "execute_result"
    }
   ],
   "source": [
    "Ph_Deceased_Female"
   ]
  },
  {
   "cell_type": "code",
   "execution_count": 26,
   "metadata": {},
   "outputs": [],
   "source": [
    "Age_Category = [\"1-12 Years Old\", \"13-19 Years Old \", \"20-24 Years Old\", \"25-55 Years Old\", \"55+ Years Old\"]"
   ]
  },
  {
   "cell_type": "code",
   "execution_count": 27,
   "metadata": {},
   "outputs": [
    {
     "data": {
      "image/png": "[encoded data removed]",
      "text/plain": [
       "<Figure size 1080x720 with 1 Axes>"
      ]
     },
     "metadata": {
      "needs_background": "light"
     },
     "output_type": "display_data"
    }
   ],
   "source": [
    "\n",
    "indices = np.arange(len(Age_Category))\n",
    "width = 0.25\n",
    "plt.figure(figsize=(15,10))\n",
    "plt.bar(indices, Ph_Deceased_Male, width=width, label =\"Male\")\n",
    "plt.bar(indices + width, Ph_Deceased_Female, width=width, label =\"Female\")\n",
    "plt.xticks(ticks=indices, labels= Age_Category)\n",
    "\n",
    "plt.xlabel(\"Age Category\", family = \"serif\", fontsize = 15)\n",
    "plt.ylabel(\"Covid-19 Deaths\", family = \"serif\", fontsize = 15)\n",
    "plt.title(\"Male vs. Female Covid Death Case\", family = \"serif\", fontsize = 20)\n",
    "\n",
    "plt.legend(prop={\"size\":15})\n",
    "plt.show()"
   ]
  },
  {
   "cell_type": "code",
   "execution_count": 28,
   "metadata": {},
   "outputs": [],
   "source": [
    "Total_Death_Cases = [(Deceased_Child_Male + Deceased_Child_Female), (Deceased_TeenAger_Male + Deceased_TeenAger_Female),\n",
    "                    (Deceased_YoungAdult_Male + Deceased_YoungAdult_Female), \n",
    "                     (Deceased_Adult_Male + Deceased_Adult_Female), (Deceased_GrandAdult_Male + Deceased_GrandAdult_Female)]"
   ]
  },
  {
   "cell_type": "code",
   "execution_count": 29,
   "metadata": {},
   "outputs": [],
   "source": [
    "Total_Death_Cases\n",
    "Age_Category = [\"1-12 Years Old\", \"13-19 Years Old \", \"20-24 Years Old\", \"25-55 Years Old\", \"55+ Years Old\"]"
   ]
  },
  {
   "cell_type": "code",
   "execution_count": 30,
   "metadata": {},
   "outputs": [
    {
     "data": {
      "image/png": "[encoded data removed]",
      "text/plain": [
       "<Figure size 1080x720 with 1 Axes>"
      ]
     },
     "metadata": {
      "needs_background": "light"
     },
     "output_type": "display_data"
    }
   ],
   "source": [
    "plt.figure(figsize=(15,10))\n",
    "plt.plot(Age_Category, Total_Death_Cases, color='red', marker='o')\n",
    "plt.title('Age Categorize: Covid-19 Death Cases', fontsize=20, family = \"serif\")\n",
    "plt.xlabel('Age Category', fontsize=15, family = \"serif\")\n",
    "plt.ylabel('Number of Covid-19 Deaths', fontsize=15, family = \"serif\")\n",
    "plt.show()"
   ]
  },
  {
   "cell_type": "code",
   "execution_count": null,
   "metadata": {},
   "outputs": [],
   "source": []
  }
 ],
 "metadata": {
  "kernelspec": {
   "display_name": "Python 3",
   "language": "python",
   "name": "python3"
  },
  "language_info": {
   "codemirror_mode": {
    "name": "ipython",
    "version": 3
   },
   "file_extension": ".py",
   "mimetype": "text/x-python",
   "name": "python",
   "nbconvert_exporter": "python",
   "pygments_lexer": "ipython3",
   "version": "3.8.5"
  }
 },
 "nbformat": 4,
 "nbformat_minor": 4
}
