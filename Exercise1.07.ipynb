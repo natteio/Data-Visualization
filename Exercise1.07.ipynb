{
 "cells": [
  {
   "cell_type": "markdown",
   "metadata": {},
   "source": [
    "## Exercise 1.07: Filtering, Sorting, and Reshaping"
   ]
  },
  {
   "cell_type": "markdown",
   "metadata": {},
   "source": [
    "Following up on the last activity, we are asked to deliver some more complex operations.   \n",
    "We will, therefore, continue to work with the same dataset, our `world_population.csv`."
   ]
  },
  {
   "cell_type": "markdown",
   "metadata": {},
   "source": [
    "#### Loading the dataset"
   ]
  },
  {
   "cell_type": "code",
   "execution_count": null,
   "metadata": {},
   "outputs": [],
   "source": [
    "# importing the necessary dependencies\n",
    "import pandas as pd"
   ]
  },
  {
   "cell_type": "code",
   "execution_count": null,
   "metadata": {},
   "outputs": [],
   "source": [
    "# loading the Dataset\n",
    "dataset = pd.read_csv('../../Datasets/world_population.csv', index_col=0)"
   ]
  },
  {
   "cell_type": "code",
   "execution_count": null,
   "metadata": {},
   "outputs": [],
   "source": [
    "# looking at the data\n",
    "dataset[:2]"
   ]
  },
  {
   "cell_type": "markdown",
   "metadata": {},
   "source": [
    "---"
   ]
  },
  {
   "cell_type": "markdown",
   "metadata": {},
   "source": [
    "#### Filtering"
   ]
  },
  {
   "cell_type": "markdown",
   "metadata": {},
   "source": [
    "To get better insights into our dataset, we want to only look at the value that fulfills certain conditions.   \n",
    "Our client reaches out to us and asks us to provide lists of values that fulfil these conditions.:\n",
    "- a new dataset that only contains 1961, 2000, and 2015 as columns\n",
    "- all countries that in 2000 had a greater population density than 500\n",
    "- a new dataset that only contains years 2000 and later\n",
    "- a new dataset that only contains countries that start with `A`\n",
    "- a new dataset that only contains countries that contain the word `land`"
   ]
  },
  {
   "cell_type": "code",
   "execution_count": null,
   "metadata": {},
   "outputs": [],
   "source": [
    "# filtering columns 1961, 2000, and 2015\n",
    "dataset.filter(items=[\"1961\", \"2000\", \"2015\"]).head()"
   ]
  },
  {
   "cell_type": "code",
   "execution_count": null,
   "metadata": {},
   "outputs": [],
   "source": [
    "# filtering countries that had a greater population density than 500 in 2000\n",
    "dataset[(dataset[\"2000\"] > 500)][[\"2000\"]]"
   ]
  },
  {
   "cell_type": "code",
   "execution_count": null,
   "metadata": {},
   "outputs": [],
   "source": [
    "# filtering for years 2000 and later\n",
    "dataset.filter(regex=\"^2\", axis=1).head()"
   ]
  },
  {
   "cell_type": "code",
   "execution_count": null,
   "metadata": {},
   "outputs": [],
   "source": [
    "# # filtering countries that start with A\n",
    "dataset.filter(regex=\"^A\", axis=0).head()"
   ]
  },
  {
   "cell_type": "code",
   "execution_count": null,
   "metadata": {},
   "outputs": [],
   "source": [
    "# filtering countries that contain the word land\n",
    "dataset.filter(like=\"land\", axis=0).head()"
   ]
  },
  {
   "cell_type": "markdown",
   "metadata": {},
   "source": [
    "---"
   ]
  },
  {
   "cell_type": "markdown",
   "metadata": {},
   "source": [
    "#### Sorting"
   ]
  },
  {
   "cell_type": "markdown",
   "metadata": {},
   "source": [
    "They also want to get some better insights into their data so they ask you to also deliver these datasets to understand the population growth better:\n",
    "- values sorted in ascending order by 1961\n",
    "- values sorted in ascending order by 2015\n",
    "- values sorted in descending order by 2015"
   ]
  },
  {
   "cell_type": "code",
   "execution_count": null,
   "metadata": {},
   "outputs": [],
   "source": [
    "# values sorted by column 1961\n",
    "dataset.sort_values(by=[\"1961\"])[[\"1961\"]].head(10)"
   ]
  },
  {
   "cell_type": "code",
   "execution_count": null,
   "metadata": {},
   "outputs": [],
   "source": [
    "# values sorted by column 2015\n",
    "dataset.sort_values(by=[\"2015\"])[[\"2015\"]].head(10)"
   ]
  },
  {
   "cell_type": "markdown",
   "metadata": {},
   "source": [
    "**Note:**   \n",
    "Comparisons like this are very valuable to get a good understanding not only of your dataset but also the underlying data itself.   \n",
    "For example, here we can see that the ranking of the lowest densely populated countries changed."
   ]
  },
  {
   "cell_type": "code",
   "execution_count": null,
   "metadata": {},
   "outputs": [],
   "source": [
    "# values sorted by column 2015 in descending order\n",
    "dataset.sort_values(by=[\"2015\"], ascending=False)[[\"2015\"]].head(10)"
   ]
  },
  {
   "cell_type": "markdown",
   "metadata": {},
   "source": [
    "---"
   ]
  },
  {
   "cell_type": "markdown",
   "metadata": {},
   "source": [
    "#### Reshaping"
   ]
  },
  {
   "cell_type": "markdown",
   "metadata": {},
   "source": [
    "In order to create a visualization that focuses on 2015, they ask you to create a subset of your DataFrame which only contains one row that which holds all the values for the year 2015 mapped to the country codes as columns.   \n",
    "\n",
    "They've sent you this scribble:   \n",
    "```\n",
    "Country Code    ABW    AFG    AGO   ...\n",
    "----------------------------------------\n",
    "        2015    577     49     20   ...\n",
    "```\n",
    "\n",
    "> They were lazy so they didn't write the digits after the comma. Make sure to keep the original values"
   ]
  },
  {
   "cell_type": "code",
   "execution_count": null,
   "metadata": {},
   "outputs": [],
   "source": [
    "# reshaping to 2015 as row and country codes as columns\n",
    "dataset_2015 = dataset[[\"Country Code\", \"2015\"]]\n",
    "\n",
    "dataset_2015.pivot(index=[\"2015\"] * len(dataset_2015), columns=\"Country Code\", values=\"2015\")"
   ]
  }
 ],
 "metadata": {
  "kernelspec": {
   "display_name": "Python 3",
   "language": "python",
   "name": "python3"
  },
  "language_info": {
   "codemirror_mode": {
    "name": "ipython",
    "version": 3
   },
   "file_extension": ".py",
   "mimetype": "text/x-python",
   "name": "python",
   "nbconvert_exporter": "python",
   "pygments_lexer": "ipython3",
   "version": "3.8.8"
  }
 },
 "nbformat": 4,
 "nbformat_minor": 2
}
